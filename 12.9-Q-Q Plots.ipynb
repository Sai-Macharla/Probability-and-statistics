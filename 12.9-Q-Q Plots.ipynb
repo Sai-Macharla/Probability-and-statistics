{
 "cells": [
  {
   "cell_type": "markdown",
   "metadata": {},
   "source": [
    "# Q-Q Plot"
   ]
  },
  {
   "cell_type": "code",
   "execution_count": 78,
   "metadata": {},
   "outputs": [
    {
     "data": {
      "image/png": "[encoded data removed]",
      "text/plain": [
       "<matplotlib.figure.Figure at 0x173605e1278>"
      ]
     },
     "metadata": {},
     "output_type": "display_data"
    }
   ],
   "source": [
    "import numpy as np;\n",
    "import pylab;\n",
    "import scipy.stats as stats;\n",
    "import statsmodels.api as sm;\n",
    "import matplotlib.pyplot as plt;\n",
    "\n",
    "# Generate 1000 random samples from N(20,5). i.e. X~N(20,5)\n",
    "X = np.random.normal(loc=20,scale=5,size=1000);\n",
    "X.sort()\n",
    "x=np.arange(4,dtype='float64')\n",
    "x.resize(100,)\n",
    "for i in range(0,100):\n",
    "    x[i]=np.percentile(X,i)\n",
    "    \n",
    "Y=np.random.normal(loc=0,scale=1,size=100);\n",
    "Y.sort()\n",
    "y=np.arange(4,dtype='float64')\n",
    "y.resize(100,)\n",
    "for j in range(0,100):\n",
    "    y[j]=np.percentile(Y,j)\n",
    "fig=plt.plot(y,x,'ro')\n",
    "plt.xlabel('Standard_Quartiles')\n",
    "plt.ylabel('Sample_Quartiles')\n",
    "plt.show()"
   ]
  },
  {
   "cell_type": "code",
   "execution_count": null,
   "metadata": {
    "collapsed": true
   },
   "outputs": [],
   "source": []
  }
 ],
 "metadata": {
  "kernelspec": {
   "display_name": "Python 3",
   "language": "python",
   "name": "python3"
  },
  "language_info": {
   "codemirror_mode": {
    "name": "ipython",
    "version": 3
   },
   "file_extension": ".py",
   "mimetype": "text/x-python",
   "name": "python",
   "nbconvert_exporter": "python",
   "pygments_lexer": "ipython3",
   "version": "3.6.3"
  }
 },
 "nbformat": 4,
 "nbformat_minor": 2
}
